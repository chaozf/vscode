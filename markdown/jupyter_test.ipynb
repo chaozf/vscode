{
 "cells": [
  {
   "cell_type": "markdown",
   "metadata": {},
   "source": [
    "现在可以在vscode中使用jupyter了。\n",
    "#### 这是一个公式\n",
    "$ y = sin(x) $\n",
    "#### 这是一段代码\n",
    "```python\n",
    "print(\"hello my world！\")\n",
    "```\n",
    "#### 这是一个表格\n",
    "N.O.|name\n",
    "---|---\n",
    "1|Jack\n"
   ]
  },
  {
   "cell_type": "code",
   "execution_count": 1,
   "metadata": {},
   "outputs": [
    {
     "name": "stdout",
     "output_type": "stream",
     "text": [
      "Hello my wprld!\n"
     ]
    }
   ],
   "source": [
    "# This is a code by python\n",
    "print(\"Hello my wprld!\")"
   ]
  },
  {
   "cell_type": "code",
   "execution_count": null,
   "metadata": {},
   "outputs": [],
   "source": []
  }
 ],
 "metadata": {
  "interpreter": {
   "hash": "dc1602c36809b3d730c66b61d88e30495431918f326b28ce5a312db643059285"
  },
  "kernelspec": {
   "display_name": "Python 3.9.6 64-bit",
   "name": "python3"
  },
  "language_info": {
   "codemirror_mode": {
    "name": "ipython",
    "version": 3
   },
   "file_extension": ".py",
   "mimetype": "text/x-python",
   "name": "python",
   "nbconvert_exporter": "python",
   "pygments_lexer": "ipython3",
   "version": "3.9.6"
  },
  "orig_nbformat": 4
 },
 "nbformat": 4,
 "nbformat_minor": 2
}
